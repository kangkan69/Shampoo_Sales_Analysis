{
 "cells": [
  {
   "cell_type": "markdown",
   "id": "214e7524-25ad-4b0f-8993-2ebc8731f855",
   "metadata": {},
   "source": [
    "# 📘 Phase 1: Data Loading and Preparation"
   ]
  },
  {
   "cell_type": "markdown",
   "id": "6cc49b5d-eaa1-4236-aea9-e3a6780a2487",
   "metadata": {},
   "source": [
    "> This phase focuses on preparing the dataset for analysis by cleaning and enriching it with time-based features.\n"
   ]
  },
  {
   "cell_type": "markdown",
   "id": "04d7bb43-83ce-4dd4-b0aa-6aef1150d7fb",
   "metadata": {},
   "source": [
    "## \n",
    "\n",
    "1. 🔧 **Clean column names**  \n",
    "   Standardize column headers for clarity and consistency.\n",
    "\n",
    "2. 🗓️ **Convert \"Month\" to datetime format**  \n",
    "   Ensure the \"Month\" column is in proper datetime format for time-based operations.\n",
    "\n",
    "3. 🔍 **Check for missing or duplicate values**  \n",
    "   Detect and handle any nulls or repeated records that could affect analysis.\n",
    "\n",
    "4. 🏷️ **Add features: Month, Year, Season, etc.**  \n",
    "   Extract meaningful time-based features like Year, Month, Quarter, and Season for deeper insights.\n"
   ]
  },
  {
   "cell_type": "code",
   "execution_count": 2,
   "id": "91aa2a14-1d45-463c-bf3c-69a6620925f7",
   "metadata": {},
   "outputs": [
    {
     "name": "stdout",
     "output_type": "stream",
     "text": [
      "Missing values:\n",
      " Month    0\n",
      "Sales    0\n",
      "dtype: int64\n",
      "\n",
      "Duplicate rows:\n",
      " 0\n"
     ]
    },
    {
     "data": {
      "text/html": [
       "<div>\n",
       "<style scoped>\n",
       "    .dataframe tbody tr th:only-of-type {\n",
       "        vertical-align: middle;\n",
       "    }\n",
       "\n",
       "    .dataframe tbody tr th {\n",
       "        vertical-align: top;\n",
       "    }\n",
       "\n",
       "    .dataframe thead th {\n",
       "        text-align: right;\n",
       "    }\n",
       "</style>\n",
       "<table border=\"1\" class=\"dataframe\">\n",
       "  <thead>\n",
       "    <tr style=\"text-align: right;\">\n",
       "      <th></th>\n",
       "      <th>Month</th>\n",
       "      <th>Sales</th>\n",
       "      <th>Year</th>\n",
       "      <th>Month_Num</th>\n",
       "      <th>Month_Name</th>\n",
       "      <th>Quarter</th>\n",
       "      <th>Season</th>\n",
       "    </tr>\n",
       "  </thead>\n",
       "  <tbody>\n",
       "    <tr>\n",
       "      <th>0</th>\n",
       "      <td>2001-01-01</td>\n",
       "      <td>266.0</td>\n",
       "      <td>2001</td>\n",
       "      <td>1</td>\n",
       "      <td>Jan</td>\n",
       "      <td>1</td>\n",
       "      <td>1</td>\n",
       "    </tr>\n",
       "    <tr>\n",
       "      <th>1</th>\n",
       "      <td>2001-02-01</td>\n",
       "      <td>145.9</td>\n",
       "      <td>2001</td>\n",
       "      <td>2</td>\n",
       "      <td>Feb</td>\n",
       "      <td>1</td>\n",
       "      <td>1</td>\n",
       "    </tr>\n",
       "    <tr>\n",
       "      <th>2</th>\n",
       "      <td>2001-03-01</td>\n",
       "      <td>183.1</td>\n",
       "      <td>2001</td>\n",
       "      <td>3</td>\n",
       "      <td>Mar</td>\n",
       "      <td>1</td>\n",
       "      <td>2</td>\n",
       "    </tr>\n",
       "    <tr>\n",
       "      <th>3</th>\n",
       "      <td>2001-04-01</td>\n",
       "      <td>119.3</td>\n",
       "      <td>2001</td>\n",
       "      <td>4</td>\n",
       "      <td>Apr</td>\n",
       "      <td>2</td>\n",
       "      <td>2</td>\n",
       "    </tr>\n",
       "    <tr>\n",
       "      <th>4</th>\n",
       "      <td>2001-05-01</td>\n",
       "      <td>180.3</td>\n",
       "      <td>2001</td>\n",
       "      <td>5</td>\n",
       "      <td>May</td>\n",
       "      <td>2</td>\n",
       "      <td>2</td>\n",
       "    </tr>\n",
       "  </tbody>\n",
       "</table>\n",
       "</div>"
      ],
      "text/plain": [
       "       Month  Sales  Year  Month_Num Month_Name  Quarter  Season\n",
       "0 2001-01-01  266.0  2001          1        Jan        1       1\n",
       "1 2001-02-01  145.9  2001          2        Feb        1       1\n",
       "2 2001-03-01  183.1  2001          3        Mar        1       2\n",
       "3 2001-04-01  119.3  2001          4        Apr        2       2\n",
       "4 2001-05-01  180.3  2001          5        May        2       2"
      ]
     },
     "execution_count": 2,
     "metadata": {},
     "output_type": "execute_result"
    }
   ],
   "source": [
    "\n",
    "# Phase 1: Data Preparation\n",
    "import pandas as pd\n",
    "\n",
    "# Load dataset\n",
    "df = pd.read_csv(\"C:/Users/kkang/Downloads/sales-of-shampoo-over-a-three-ye.csv\")\n",
    "\n",
    "# Rename columns\n",
    "df.columns = ['Month', 'Sales']\n",
    "\n",
    "# Convert 'Month' to datetime\n",
    "df['Month'] = pd.date_range(start='2001-01-01', periods=len(df), freq='MS')\n",
    "\n",
    "# Check missing and duplicates\n",
    "print(\"Missing values:\\n\", df.isnull().sum())\n",
    "print(\"\\nDuplicate rows:\\n\", df.duplicated().sum())\n",
    "\n",
    "# Add time features\n",
    "df['Year'] = df['Month'].dt.year\n",
    "df['Month_Num'] = df['Month'].dt.month\n",
    "df['Month_Name'] = df['Month'].dt.strftime('%b')\n",
    "df['Quarter'] = df['Month'].dt.quarter\n",
    "df['Season'] = df['Month'].dt.month % 12 // 3 + 1\n",
    "\n",
    "# Show data\n",
    "df.head()\n"
   ]
  }
 ],
 "metadata": {
  "kernelspec": {
   "display_name": "Python 3 (ipykernel)",
   "language": "python",
   "name": "python3"
  },
  "language_info": {
   "codemirror_mode": {
    "name": "ipython",
    "version": 3
   },
   "file_extension": ".py",
   "mimetype": "text/x-python",
   "name": "python",
   "nbconvert_exporter": "python",
   "pygments_lexer": "ipython3",
   "version": "3.13.1"
  }
 },
 "nbformat": 4,
 "nbformat_minor": 5
}
